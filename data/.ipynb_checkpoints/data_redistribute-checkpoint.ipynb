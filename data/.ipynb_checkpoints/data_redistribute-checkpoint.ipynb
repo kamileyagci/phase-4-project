{
 "cells": [
  {
   "cell_type": "markdown",
   "metadata": {},
   "source": [
    "### Redistribute the data\n"
   ]
  },
  {
   "cell_type": "code",
   "execution_count": 17,
   "metadata": {},
   "outputs": [],
   "source": [
    "import os, random, shutil"
   ]
  },
  {
   "cell_type": "code",
   "execution_count": 18,
   "metadata": {},
   "outputs": [],
   "source": [
    "mv chest_xray/*/NORMAL/* chest_xray/NORMAL_TMP/"
   ]
  },
  {
   "cell_type": "code",
   "execution_count": 19,
   "metadata": {},
   "outputs": [],
   "source": [
    "mv chest_xray/val/PNEUMONIA/* chest_xray/PNEUMONIA_TMP/"
   ]
  },
  {
   "cell_type": "code",
   "execution_count": 20,
   "metadata": {},
   "outputs": [],
   "source": [
    "mv chest_xray/test/PNEUMONIA/* chest_xray/PNEUMONIA_TMP/"
   ]
  },
  {
   "cell_type": "code",
   "execution_count": 21,
   "metadata": {},
   "outputs": [],
   "source": [
    "mv chest_xray/train/PNEUMONIA/* chest_xray/PNEUMONIA_TMP/"
   ]
  },
  {
   "cell_type": "code",
   "execution_count": 22,
   "metadata": {},
   "outputs": [],
   "source": [
    "# Move to Val NORMAL\n",
    "source ='chest_xray/NORMAL_TMP'\n",
    "destination ='chest_xray/val/NORMAL'\n",
    "\n",
    "onlyfiles = [f for f in os.listdir(source) if os.path.isfile(os.path.join(source, f))]\n",
    "no_of_files = 238\n",
    "\n",
    "def main():\n",
    "    for i in range(no_of_files):\n",
    "        files = [filenames for (filenames) in os.listdir(source)]\n",
    "        random_file = random.choice(files)\n",
    "        shutil.move(f'{source}/{random_file}', destination)\n",
    "\n",
    "\n",
    "if __name__ == '__main__':\n",
    "    main()"
   ]
  },
  {
   "cell_type": "code",
   "execution_count": 23,
   "metadata": {},
   "outputs": [],
   "source": [
    "#Move to Test NORMAL\n",
    "source ='chest_xray/NORMAL_TMP'\n",
    "destination ='chest_xray/test/NORMAL'\n",
    "\n",
    "onlyfiles = [f for f in os.listdir(source) if os.path.isfile(os.path.join(source, f))]\n",
    "no_of_files = 238\n",
    "\n",
    "def main():\n",
    "    for i in range(no_of_files):\n",
    "        files = [filenames for (filenames) in os.listdir(source)]\n",
    "        random_file = random.choice(files)\n",
    "        shutil.move(f'{source}/{random_file}', destination)\n",
    "\n",
    "\n",
    "if __name__ == '__main__':\n",
    "    main()"
   ]
  },
  {
   "cell_type": "code",
   "execution_count": 24,
   "metadata": {},
   "outputs": [],
   "source": [
    "#Move to Train NORMAL\n",
    "source ='chest_xray/NORMAL_TMP'\n",
    "destination ='chest_xray/train/NORMAL'\n",
    "\n",
    "onlyfiles = [f for f in os.listdir(source) if os.path.isfile(os.path.join(source, f))]\n",
    "no_of_files = 1107\n",
    "\n",
    "def main():\n",
    "    for i in range(no_of_files):\n",
    "        files = [filenames for (filenames) in os.listdir(source)]\n",
    "        random_file = random.choice(files)\n",
    "        shutil.move(f'{source}/{random_file}', destination)\n",
    "\n",
    "\n",
    "if __name__ == '__main__':\n",
    "    main()"
   ]
  },
  {
   "cell_type": "code",
   "execution_count": 25,
   "metadata": {},
   "outputs": [],
   "source": [
    "#Move to Val PNEUMONIA\n",
    "source ='chest_xray/PNEUMONIA_TMP'\n",
    "destination ='chest_xray/val/PNEUMONIA'\n",
    "\n",
    "onlyfiles = [f for f in os.listdir(source) if os.path.isfile(os.path.join(source, f))]\n",
    "no_of_files = 641\n",
    "\n",
    "def main():\n",
    "    for i in range(no_of_files):\n",
    "        files = [filenames for (filenames) in os.listdir(source)]\n",
    "        random_file = random.choice(files)\n",
    "        shutil.move(f'{source}/{random_file}', destination)\n",
    "\n",
    "\n",
    "if __name__ == '__main__':\n",
    "    main()"
   ]
  },
  {
   "cell_type": "code",
   "execution_count": 26,
   "metadata": {},
   "outputs": [],
   "source": [
    "#Move to Test PNEUMONIA\n",
    "source ='chest_xray/PNEUMONIA_TMP'\n",
    "destination ='chest_xray/test/PNEUMONIA'\n",
    "\n",
    "onlyfiles = [f for f in os.listdir(source) if os.path.isfile(os.path.join(source, f))]\n",
    "no_of_files = 641\n",
    "\n",
    "def main():\n",
    "    for i in range(no_of_files):\n",
    "        files = [filenames for (filenames) in os.listdir(source)]\n",
    "        random_file = random.choice(files)\n",
    "        shutil.move(f'{source}/{random_file}', destination)\n",
    "\n",
    "\n",
    "if __name__ == '__main__':\n",
    "    main()"
   ]
  },
  {
   "cell_type": "code",
   "execution_count": 27,
   "metadata": {},
   "outputs": [],
   "source": [
    "#Move to Train PNEUMONIA\n",
    "source ='chest_xray/PNEUMONIA_TMP'\n",
    "destination ='chest_xray/train/PNEUMONIA'\n",
    "\n",
    "onlyfiles = [f for f in os.listdir(source) if os.path.isfile(os.path.join(source, f))]\n",
    "no_of_files = 2991\n",
    "\n",
    "def main():\n",
    "    for i in range(no_of_files):\n",
    "        files = [filenames for (filenames) in os.listdir(source)]\n",
    "        random_file = random.choice(files)\n",
    "        shutil.move(f'{source}/{random_file}', destination)\n",
    "\n",
    "\n",
    "if __name__ == '__main__':\n",
    "    main()"
   ]
  },
  {
   "cell_type": "code",
   "execution_count": null,
   "metadata": {},
   "outputs": [],
   "source": []
  }
 ],
 "metadata": {
  "kernelspec": {
   "display_name": "Python 3",
   "language": "python",
   "name": "python3"
  },
  "language_info": {
   "codemirror_mode": {
    "name": "ipython",
    "version": 3
   },
   "file_extension": ".py",
   "mimetype": "text/x-python",
   "name": "python",
   "nbconvert_exporter": "python",
   "pygments_lexer": "ipython3",
   "version": "3.8.3"
  }
 },
 "nbformat": 4,
 "nbformat_minor": 4
}
